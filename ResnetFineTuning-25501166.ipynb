{
  "cells": [
    {
      "cell_type": "code",
      "execution_count": null,
      "id": "62c612a1-daa0-4906-923d-905426d1b33b",
      "metadata": {
        "id": "62c612a1-daa0-4906-923d-905426d1b33b"
      },
      "outputs": [],
      "source": [
        "# Importing all the libraries\n",
        "import os\n",
        "from PIL import Image\n",
        "import numpy as np\n",
        "import pandas as pd\n",
        "import matplotlib.pyplot as plt\n",
        "import seaborn as sns\n",
        "from tqdm import tqdm\n",
        "import json\n",
        "from collections import Counter\n",
        "from sklearn.model_selection import train_test_split\n",
        "from sklearn.preprocessing import LabelEncoder\n",
        "from torch.utils.data import Dataset, DataLoader\n",
        "from torchvision import transforms\n",
        "import torch\n",
        "from torch.utils.data import DataLoader, Dataset\n",
        "from torchvision import transforms, models\n",
        "from torchvision.datasets import ImageFolder\n",
        "\n",
        "from sklearn.model_selection import train_test_split\n",
        "from sklearn.metrics import classification_report, confusion_matrix\n"
      ]
    },
    {
      "cell_type": "code",
      "execution_count": null,
      "id": "3d3687b2-8b42-4c4c-a991-bd5dea868d50",
      "metadata": {
        "id": "3d3687b2-8b42-4c4c-a991-bd5dea868d50",
        "outputId": "c131de99-c7af-4188-8409-e1699cf130c4"
      },
      "outputs": [
        {
          "data": {
            "text/plain": [
              "'/workspace'"
            ]
          },
          "execution_count": 2,
          "metadata": {},
          "output_type": "execute_result"
        }
      ],
      "source": [
        "pwd"
      ]
    },
    {
      "cell_type": "code",
      "execution_count": null,
      "id": "29ae64af-82a8-40a8-b2cb-a6c2596a9a64",
      "metadata": {
        "id": "29ae64af-82a8-40a8-b2cb-a6c2596a9a64"
      },
      "outputs": [],
      "source": [
        "# Paths & JSON Loading\n",
        "base_path = '/workspace/data/food41'\n",
        "image_root = os.path.join(base_path, 'images')\n",
        "meta_path = os.path.join(base_path, 'meta/meta')\n",
        "\n",
        "# Checking paths\n",
        "assert os.path.exists(base_path), f\"Missing base directory: {base_path}\"\n",
        "assert os.path.exists(image_root), f\"Missing images directory: {image_root}\"\n",
        "assert os.path.exists(meta_path), f\"Missing meta directory: {meta_path}\"\n",
        "\n",
        "# Loading JSON files\n",
        "with open(os.path.join(meta_path, 'train.json'), 'r') as f:\n",
        "    train_json = json.load(f)\n",
        "with open(os.path.join(meta_path, 'test.json'), 'r') as f:\n",
        "    test_json = json.load(f)\n",
        "\n"
      ]
    },
    {
      "cell_type": "code",
      "execution_count": null,
      "id": "6dd4a29a-b506-46b3-b11b-a6fecb1f4b9f",
      "metadata": {
        "id": "6dd4a29a-b506-46b3-b11b-a6fecb1f4b9f",
        "outputId": "66a0ab85-5be9-455c-9352-7ea25953cc2f"
      },
      "outputs": [
        {
          "name": "stdout",
          "output_type": "stream",
          "text": [
            "Loaded training samples: 75750\n",
            "Loaded testing samples: 25250\n",
            "\n",
            "Number of unique classes: 101\n"
          ]
        }
      ],
      "source": [
        "# Fixing Path Formatting\n",
        "train_data = []\n",
        "for _, files in train_json.items():\n",
        "    train_data.extend(files)\n",
        "\n",
        "test_data = []\n",
        "for _, files in test_json.items():\n",
        "    test_data.extend(files)\n",
        "\n",
        "# Initial checks\n",
        "print(f\"Loaded training samples: {len(train_data)}\")\n",
        "print(f\"Loaded testing samples: {len(test_data)}\")\n",
        "\n",
        "# Getting labels from paths (first folder = class name)\n",
        "train_labels = [path.split('/')[0] for path in train_data]\n",
        "label_counts = Counter(train_labels)\n",
        "print(f\"\\nNumber of unique classes: {len(label_counts)}\")\n"
      ]
    },
    {
      "cell_type": "code",
      "execution_count": null,
      "id": "540b7c41-e760-4d9a-95e6-a22c064a04b2",
      "metadata": {
        "id": "540b7c41-e760-4d9a-95e6-a22c064a04b2"
      },
      "outputs": [],
      "source": [
        "# Train-Validation Split\n",
        "train_paths, val_paths, train_targets, val_targets = train_test_split(\n",
        "    train_data,\n",
        "    train_labels,\n",
        "    test_size=0.2,\n",
        "    stratify=train_labels,\n",
        "    random_state=42\n",
        ")\n",
        "\n"
      ]
    },
    {
      "cell_type": "code",
      "execution_count": null,
      "id": "3849c1ae-c39e-4e6f-8601-f9474a13f21f",
      "metadata": {
        "id": "3849c1ae-c39e-4e6f-8601-f9474a13f21f"
      },
      "outputs": [],
      "source": [
        "# Encoding Labels\n",
        "label_encoder = LabelEncoder()\n",
        "label_encoder.fit(train_labels)\n",
        "\n",
        "train_encoded = label_encoder.transform(train_targets)\n",
        "val_encoded = label_encoder.transform(val_targets)\n",
        "test_encoded = label_encoder.transform([x.split('/')[0] for x in test_data])\n",
        "\n"
      ]
    },
    {
      "cell_type": "code",
      "execution_count": null,
      "id": "b25d1504-0e04-49ce-ae3b-993a7bb4b247",
      "metadata": {
        "id": "b25d1504-0e04-49ce-ae3b-993a7bb4b247"
      },
      "outputs": [],
      "source": [
        "# Defining Transforms\n",
        "image_size = 224\n",
        "imagenet_mean = [0.485, 0.456, 0.406]\n",
        "imagenet_std = [0.229, 0.224, 0.225]\n",
        "\n",
        "transform_train = transforms.Compose([\n",
        "    transforms.RandomResizedCrop(224, scale=(0.7, 1.0)),\n",
        "    transforms.RandomHorizontalFlip(),\n",
        "    transforms.RandomVerticalFlip(),\n",
        "    transforms.RandomRotation(20),\n",
        "    transforms.ColorJitter(brightness=0.4, contrast=0.4, saturation=0.4),\n",
        "    transforms.ToTensor(),\n",
        "    transforms.Normalize(mean=imagenet_mean, std=imagenet_std)\n",
        "])\n",
        "\n",
        "transform_val_test = transforms.Compose([\n",
        "    transforms.Resize((image_size, image_size)),\n",
        "    transforms.ToTensor(),\n",
        "    transforms.Normalize(mean=imagenet_mean, std=imagenet_std)\n",
        "])\n",
        "\n",
        "\n",
        "\n"
      ]
    },
    {
      "cell_type": "code",
      "execution_count": null,
      "id": "7e218e4f-ad16-4aed-bea7-98113f18145f",
      "metadata": {
        "id": "7e218e4f-ad16-4aed-bea7-98113f18145f"
      },
      "outputs": [],
      "source": [
        "# Dataset Class\n",
        "class Food101Dataset(Dataset):\n",
        "    def __init__(self, image_paths, labels, root_dir, transform=None):\n",
        "        self.image_paths = image_paths\n",
        "        self.labels = labels\n",
        "        self.root_dir = root_dir\n",
        "        self.transform = transform\n",
        "\n",
        "    def __len__(self):\n",
        "        return len(self.image_paths)\n",
        "\n",
        "    def __getitem__(self, idx):\n",
        "        img_rel_path = self.image_paths[idx]\n",
        "        img_path = os.path.join(self.root_dir, img_rel_path)\n",
        "\n",
        "        if not img_path.endswith(\".jpg\"):\n",
        "            img_path += \".jpg\"\n",
        "\n",
        "        if not os.path.exists(img_path):\n",
        "            raise FileNotFoundError(f\"Missing file: {img_path}\")\n",
        "\n",
        "        image = Image.open(img_path).convert('RGB')\n",
        "        label = self.labels[idx]\n",
        "\n",
        "        if self.transform:\n",
        "            image = self.transform(image)\n",
        "\n",
        "        return image, label"
      ]
    },
    {
      "cell_type": "code",
      "execution_count": null,
      "id": "dea5add2-1108-45a6-8c05-b79c4ef58221",
      "metadata": {
        "id": "dea5add2-1108-45a6-8c05-b79c4ef58221"
      },
      "outputs": [],
      "source": [
        "# Creating Dataset & DataLoaders\n",
        "batch_size = 32\n",
        "\n",
        "train_dataset = Food101Dataset(train_paths, train_encoded, root_dir=image_root, transform=transform_train)\n",
        "val_dataset = Food101Dataset(val_paths, val_encoded, root_dir=image_root, transform=transform_val_test)\n",
        "test_dataset = Food101Dataset(test_data, test_encoded, root_dir=image_root, transform=transform_val_test)\n",
        "\n",
        "train_loader = DataLoader(train_dataset, batch_size=batch_size, shuffle=True, num_workers=4)\n",
        "val_loader = DataLoader(val_dataset, batch_size=batch_size, shuffle=False, num_workers=4)\n",
        "test_loader = DataLoader(test_dataset, batch_size=batch_size, shuffle=False, num_workers=4)\n"
      ]
    },
    {
      "cell_type": "code",
      "execution_count": null,
      "id": "340fa6ee-7aa3-4b6e-bb83-9e06358af63a",
      "metadata": {
        "id": "340fa6ee-7aa3-4b6e-bb83-9e06358af63a",
        "outputId": "6f5ebe97-70b2-40f6-d254-876a18b0c1a9"
      },
      "outputs": [
        {
          "name": "stdout",
          "output_type": "stream",
          "text": [
            "Train batches: 1894\n",
            "Validation batches: 474\n",
            "Test batches: 790\n"
          ]
        }
      ],
      "source": [
        "# Sanity Output\n",
        "print(f\"Train batches: {len(train_loader)}\")\n",
        "print(f\"Validation batches: {len(val_loader)}\")\n",
        "print(f\"Test batches: {len(test_loader)}\")"
      ]
    },
    {
      "cell_type": "code",
      "execution_count": null,
      "id": "91cd4e88-9f4b-4606-a2f7-ad84d4a665d8",
      "metadata": {
        "id": "91cd4e88-9f4b-4606-a2f7-ad84d4a665d8"
      },
      "outputs": [],
      "source": [
        "import torch\n",
        "\n",
        "device = torch.device(\"cuda\" if torch.cuda.is_available() else \"cpu\")\n"
      ]
    },
    {
      "cell_type": "code",
      "execution_count": null,
      "id": "1272b583-2f07-4bd9-9be3-2205ded6a808",
      "metadata": {
        "id": "1272b583-2f07-4bd9-9be3-2205ded6a808",
        "outputId": "76f8fd6d-22ae-4953-ae70-98dbc1d7807c"
      },
      "outputs": [
        {
          "name": "stderr",
          "output_type": "stream",
          "text": [
            "/workspace/env/lib/python3.10/site-packages/torchvision/models/_utils.py:208: UserWarning: The parameter 'pretrained' is deprecated since 0.13 and may be removed in the future, please use 'weights' instead.\n",
            "  warnings.warn(\n",
            "/workspace/env/lib/python3.10/site-packages/torchvision/models/_utils.py:223: UserWarning: Arguments other than a weight enum or `None` for 'weights' are deprecated since 0.13 and may be removed in the future. The current behavior is equivalent to passing `weights=ResNet50_Weights.IMAGENET1K_V1`. You can also use `weights=ResNet50_Weights.DEFAULT` to get the most up-to-date weights.\n",
            "  warnings.warn(msg)\n"
          ]
        }
      ],
      "source": [
        "from torchvision import models\n",
        "import torch.nn as nn\n",
        "\n",
        "# Loading pretrained ResNet50\n",
        "resnet_finetune = models.resnet50(pretrained=True)\n",
        "\n",
        "# Freezing everything\n",
        "for param in resnet_finetune.parameters():\n",
        "    param.requires_grad = False\n",
        "\n",
        "# Unfreezing layer 3 and layer 4\n",
        "for name, param in resnet_finetune.named_parameters():\n",
        "\n",
        "    if \"layer3\" in name or \"layer4\" in name or \"fc\" in name:\n",
        "        param.requires_grad = True\n",
        "    else:\n",
        "        param.requires_grad = False\n",
        "\n",
        "\n",
        "# Replacing the final fully connected layer\n",
        "resnet_finetune.fc = nn.Linear(resnet_finetune.fc.in_features, 101)\n",
        "\n",
        "# Moving to GPU\n",
        "resnet_finetune = resnet_finetune.to(device)\n"
      ]
    },
    {
      "cell_type": "code",
      "execution_count": null,
      "id": "e89e48e6-c8e8-4f57-b590-10c0bca6bcba",
      "metadata": {
        "id": "e89e48e6-c8e8-4f57-b590-10c0bca6bcba"
      },
      "outputs": [],
      "source": [
        "import torch.optim as optim\n",
        "\n",
        "# Settiing different learning rates\n",
        "optimizer = optim.Adam([\n",
        "    {'params': resnet_finetune.fc.parameters(), 'lr': 0.002},\n",
        "    {'params': [param for name, param in resnet_finetune.named_parameters() if \"layer4\" in name], 'lr': 0.0005}\n",
        "])\n",
        "\n",
        "# Scheduler and loss\n",
        "scheduler = optim.lr_scheduler.StepLR(optimizer, step_size=2, gamma=0.1)\n",
        "criterion = nn.CrossEntropyLoss(label_smoothing=0.1)\n"
      ]
    },
    {
      "cell_type": "code",
      "execution_count": null,
      "id": "3cbd4b61-8550-4067-98d8-e13565442b21",
      "metadata": {
        "id": "3cbd4b61-8550-4067-98d8-e13565442b21"
      },
      "outputs": [],
      "source": [
        "# Model training\n",
        "def train_model(model, train_loader, val_loader, criterion, optimizer, scheduler, device, num_epochs=20, patience=3):\n",
        "    import time\n",
        "    import copy\n",
        "\n",
        "    since = time.time()\n",
        "\n",
        "    best_model_wts = copy.deepcopy(model.state_dict())\n",
        "    best_val_acc = 0.0\n",
        "    patience_counter = 0\n",
        "\n",
        "    train_loss_history = []\n",
        "    val_loss_history = []\n",
        "    train_acc_history = []\n",
        "    val_acc_history = []\n",
        "\n",
        "    for epoch in range(num_epochs):\n",
        "        print(f\"Epoch {epoch+1}/{num_epochs}\")\n",
        "        print(\"-\" * 30)\n",
        "\n",
        "        for phase in ['train', 'val']:\n",
        "            if phase == 'train':\n",
        "                model.train()\n",
        "                dataloader = train_loader\n",
        "            else:\n",
        "                model.eval()\n",
        "                dataloader = val_loader\n",
        "\n",
        "            running_loss = 0.0\n",
        "            running_corrects = 0\n",
        "            total_samples = 0\n",
        "\n",
        "            for inputs, labels in dataloader:\n",
        "                inputs = inputs.to(device)\n",
        "                labels = labels.to(device)\n",
        "\n",
        "                optimizer.zero_grad()\n",
        "\n",
        "                with torch.set_grad_enabled(phase == 'train'):\n",
        "                    outputs = model(inputs)\n",
        "                    if isinstance(outputs, tuple):\n",
        "                        outputs = outputs[0]\n",
        "\n",
        "                    _, preds = torch.max(outputs, 1)\n",
        "                    loss = criterion(outputs, labels)\n",
        "\n",
        "                    if phase == 'train':\n",
        "                        loss.backward()\n",
        "                        optimizer.step()\n",
        "\n",
        "                running_loss += loss.item() * inputs.size(0)\n",
        "                running_corrects += torch.sum(preds == labels.data)\n",
        "                total_samples += inputs.size(0)\n",
        "\n",
        "            epoch_loss = running_loss / total_samples\n",
        "            epoch_acc = running_corrects.double() / total_samples\n",
        "\n",
        "            if phase == 'train':\n",
        "                train_loss_history.append(epoch_loss)\n",
        "                train_acc_history.append(epoch_acc.item())\n",
        "                scheduler.step()\n",
        "            else:\n",
        "                val_loss_history.append(epoch_loss)\n",
        "                val_acc_history.append(epoch_acc.item())\n",
        "\n",
        "                # Early stopping logic\n",
        "                if epoch_acc > best_val_acc:\n",
        "                    best_val_acc = epoch_acc\n",
        "                    best_model_wts = copy.deepcopy(model.state_dict())\n",
        "                    patience_counter = 0\n",
        "                else:\n",
        "                    patience_counter += 1\n",
        "                    print(f\"EarlyStopping counter: {patience_counter}/{patience}\")\n",
        "                    if patience_counter >= patience:\n",
        "                        print(f\"\\n Early stopping triggered at epoch {epoch+1}\")\n",
        "                        model.load_state_dict(best_model_wts)\n",
        "                        return model, train_loss_history, val_loss_history, train_acc_history, val_acc_history\n",
        "\n",
        "            print(f\"{phase} Loss: {epoch_loss:.4f} | Acc: {epoch_acc:.4f}\")\n",
        "\n",
        "    time_elapsed = time.time() - since\n",
        "    print(f\"\\nTraining complete in {time_elapsed // 60:.0f}m {time_elapsed % 60:.0f}s\")\n",
        "    print(f\"Best val Acc: {best_val_acc:.4f}\")\n",
        "\n",
        "    model.load_state_dict(best_model_wts)\n",
        "    return model, train_loss_history, val_loss_history, train_acc_history, val_acc_history\n",
        "\n",
        "\n"
      ]
    },
    {
      "cell_type": "code",
      "execution_count": null,
      "id": "262b73bf-5d49-4309-b227-c70df6a8a9e1",
      "metadata": {
        "id": "262b73bf-5d49-4309-b227-c70df6a8a9e1",
        "outputId": "42ec64ac-fbf7-4e48-c33f-d272dba87468"
      },
      "outputs": [
        {
          "name": "stdout",
          "output_type": "stream",
          "text": [
            "Epoch 1/20\n",
            "------------------------------\n",
            "train Loss: 2.8704 | Acc: 0.4104\n",
            "val Loss: 2.3490 | Acc: 0.5601\n",
            "Epoch 2/20\n",
            "------------------------------\n",
            "train Loss: 2.2804 | Acc: 0.5680\n",
            "val Loss: 2.0974 | Acc: 0.6283\n",
            "Epoch 3/20\n",
            "------------------------------\n",
            "train Loss: 1.9331 | Acc: 0.6698\n",
            "val Loss: 1.8557 | Acc: 0.6983\n",
            "Epoch 4/20\n",
            "------------------------------\n",
            "train Loss: 1.8533 | Acc: 0.6951\n",
            "val Loss: 1.8087 | Acc: 0.7110\n",
            "Epoch 5/20\n",
            "------------------------------\n",
            "train Loss: 1.7932 | Acc: 0.7129\n",
            "val Loss: 1.8007 | Acc: 0.7167\n",
            "Epoch 6/20\n",
            "------------------------------\n",
            "train Loss: 1.7754 | Acc: 0.7176\n",
            "EarlyStopping counter: 1/5\n",
            "val Loss: 1.7973 | Acc: 0.7157\n",
            "Epoch 7/20\n",
            "------------------------------\n",
            "train Loss: 1.7754 | Acc: 0.7159\n",
            "EarlyStopping counter: 2/5\n",
            "val Loss: 1.7958 | Acc: 0.7142\n",
            "Epoch 8/20\n",
            "------------------------------\n",
            "train Loss: 1.7734 | Acc: 0.7176\n",
            "EarlyStopping counter: 3/5\n",
            "val Loss: 1.8015 | Acc: 0.7158\n",
            "Epoch 9/20\n",
            "------------------------------\n",
            "train Loss: 1.7692 | Acc: 0.7188\n",
            "val Loss: 1.7917 | Acc: 0.7169\n",
            "Epoch 10/20\n",
            "------------------------------\n",
            "train Loss: 1.7708 | Acc: 0.7179\n",
            "EarlyStopping counter: 1/5\n",
            "val Loss: 1.7964 | Acc: 0.7163\n",
            "Epoch 11/20\n",
            "------------------------------\n",
            "train Loss: 1.7697 | Acc: 0.7194\n",
            "val Loss: 1.7958 | Acc: 0.7174\n",
            "Epoch 12/20\n",
            "------------------------------\n",
            "train Loss: 1.7678 | Acc: 0.7188\n",
            "EarlyStopping counter: 1/5\n",
            "val Loss: 1.7954 | Acc: 0.7166\n",
            "Epoch 13/20\n",
            "------------------------------\n",
            "train Loss: 1.7681 | Acc: 0.7186\n",
            "val Loss: 1.7895 | Acc: 0.7183\n",
            "Epoch 14/20\n",
            "------------------------------\n",
            "train Loss: 1.7672 | Acc: 0.7199\n",
            "EarlyStopping counter: 1/5\n",
            "val Loss: 1.7902 | Acc: 0.7172\n",
            "Epoch 15/20\n",
            "------------------------------\n",
            "train Loss: 1.7689 | Acc: 0.7203\n",
            "EarlyStopping counter: 2/5\n",
            "val Loss: 1.7961 | Acc: 0.7168\n",
            "Epoch 16/20\n",
            "------------------------------\n",
            "train Loss: 1.7707 | Acc: 0.7185\n",
            "EarlyStopping counter: 3/5\n",
            "val Loss: 1.7984 | Acc: 0.7156\n",
            "Epoch 17/20\n",
            "------------------------------\n",
            "train Loss: 1.7687 | Acc: 0.7201\n",
            "EarlyStopping counter: 4/5\n",
            "val Loss: 1.7960 | Acc: 0.7167\n",
            "Epoch 18/20\n",
            "------------------------------\n",
            "train Loss: 1.7681 | Acc: 0.7194\n",
            "EarlyStopping counter: 5/5\n",
            "\n",
            " Early stopping triggered at epoch 18\n"
          ]
        }
      ],
      "source": [
        "resnet_finetune, train_loss_f, val_loss_f, train_acc_f, val_acc_f = train_model(\n",
        "    resnet_finetune,\n",
        "    train_loader,\n",
        "    val_loader,\n",
        "    criterion,\n",
        "    optimizer,\n",
        "    scheduler,\n",
        "    device,\n",
        "    num_epochs=20,\n",
        "    patience=5\n",
        "\n",
        ")\n"
      ]
    },
    {
      "cell_type": "code",
      "execution_count": null,
      "id": "f58ecebe-e002-4a14-8ae1-1c36c2f511d5",
      "metadata": {
        "id": "f58ecebe-e002-4a14-8ae1-1c36c2f511d5",
        "outputId": "cc60ac69-27e4-4250-889c-96700b11c42b"
      },
      "outputs": [
        {
          "data": {
            "image/png": "[encoded data removed]",
            "text/plain": [
              "<Figure size 1200x500 with 2 Axes>"
            ]
          },
          "metadata": {},
          "output_type": "display_data"
        }
      ],
      "source": [
        "import matplotlib.pyplot as plt\n",
        "\n",
        "plt.figure(figsize=(12, 5))\n",
        "\n",
        "# Plotting Loss\n",
        "plt.subplot(1, 2, 1)\n",
        "plt.plot(train_loss_f, label='Train Loss')\n",
        "plt.plot(val_loss_f, label='Val Loss')\n",
        "plt.title('ResNet Fine-Tuning - Loss Curve')\n",
        "plt.xlabel('Epoch')\n",
        "plt.ylabel('Loss')\n",
        "plt.legend()\n",
        "\n",
        "# Plotting Accuracy\n",
        "plt.subplot(1, 2, 2)\n",
        "plt.plot(train_acc_f, label='Train Accuracy')\n",
        "plt.plot(val_acc_f, label='Val Accuracy')\n",
        "plt.title('ResNet Fine-Tuning - Accuracy Curve')\n",
        "plt.xlabel('Epoch')\n",
        "plt.ylabel('Accuracy')\n",
        "plt.legend()\n",
        "\n",
        "plt.tight_layout()\n",
        "plt.show()\n"
      ]
    },
    {
      "cell_type": "code",
      "execution_count": null,
      "id": "5d8df5f3-fe6e-46f0-a037-bbb44a34e444",
      "metadata": {
        "id": "5d8df5f3-fe6e-46f0-a037-bbb44a34e444"
      },
      "outputs": [],
      "source": [
        "from sklearn.metrics import classification_report, accuracy_score\n",
        "# Evaluating Model\n",
        "def evaluate_model(model, test_loader, label_encoder, device):\n",
        "    model.eval()\n",
        "    all_preds = []\n",
        "    all_labels = []\n",
        "\n",
        "    with torch.no_grad():\n",
        "        for inputs, labels in test_loader:\n",
        "            inputs = inputs.to(device)\n",
        "            labels = labels.to(device)\n",
        "\n",
        "            outputs = model(inputs)\n",
        "            if isinstance(outputs, tuple):\n",
        "                outputs = outputs[0]\n",
        "\n",
        "            _, preds = torch.max(outputs, 1)\n",
        "\n",
        "            all_preds.extend(preds.cpu().numpy())\n",
        "            all_labels.extend(labels.cpu().numpy())\n",
        "\n",
        "    decoded_labels = label_encoder.inverse_transform(all_labels)\n",
        "    decoded_preds = label_encoder.inverse_transform(all_preds)\n",
        "\n",
        "    acc = accuracy_score(all_labels, all_preds)\n",
        "    print(f\"\\n Test Accuracy: {acc:.4f}\")\n",
        "    print(\"\\n Classification Report:\\n\")\n",
        "    print(classification_report(decoded_labels, decoded_preds, target_names=label_encoder.classes_))\n"
      ]
    },
    {
      "cell_type": "code",
      "execution_count": null,
      "id": "505726ed-6650-42c6-9023-a1a86c25b808",
      "metadata": {
        "id": "505726ed-6650-42c6-9023-a1a86c25b808"
      },
      "outputs": [],
      "source": [
        "from collections import defaultdict\n",
        "# Accuracy Analysis\n",
        "def evaluate_top_bottom_classes(model, test_loader, label_encoder, device):\n",
        "    model.eval()\n",
        "    class_correct = defaultdict(int)\n",
        "    class_total = defaultdict(int)\n",
        "\n",
        "    with torch.no_grad():\n",
        "        for inputs, labels in test_loader:\n",
        "            inputs = inputs.to(device)\n",
        "            labels = labels.to(device)\n",
        "\n",
        "            outputs = model(inputs)\n",
        "            if isinstance(outputs, tuple):\n",
        "                outputs = outputs[0]\n",
        "\n",
        "            _, preds = torch.max(outputs, 1)\n",
        "\n",
        "            for label, pred in zip(labels.cpu().numpy(), preds.cpu().numpy()):\n",
        "                class_total[label] += 1\n",
        "                if label == pred:\n",
        "                    class_correct[label] += 1\n",
        "\n",
        "    class_accuracies = {\n",
        "        label_encoder.inverse_transform([k])[0]: class_correct[k] / class_total[k]\n",
        "        for k in class_total\n",
        "    }\n",
        "\n",
        "    sorted_acc = sorted(class_accuracies.items(), key=lambda x: x[1], reverse=True)\n",
        "\n",
        "    print(\"\\nTop 5 Most Accurate Classes:\")\n",
        "    for cls, acc in sorted_acc[:5]:\n",
        "        print(f\"{cls:25s}: {acc:.2%}\")\n",
        "\n",
        "    print(\"\\n Bottom 5 Least Accurate Classes:\")\n",
        "    for cls, acc in sorted_acc[-5:]:\n",
        "        print(f\"{cls:25s}: {acc:.2%}\")\n"
      ]
    },
    {
      "cell_type": "code",
      "execution_count": null,
      "id": "a40771fc-a155-4fb3-a3f5-04e58f1617aa",
      "metadata": {
        "id": "a40771fc-a155-4fb3-a3f5-04e58f1617aa",
        "outputId": "cb3e5909-b9fe-402a-ea9c-51673da13244"
      },
      "outputs": [
        {
          "name": "stdout",
          "output_type": "stream",
          "text": [
            "\n",
            " Test Accuracy: 0.7737\n",
            "\n",
            " Classification Report:\n",
            "\n",
            "                         precision    recall  f1-score   support\n",
            "\n",
            "              apple_pie       0.63      0.43      0.51       250\n",
            "         baby_back_ribs       0.79      0.77      0.78       250\n",
            "                baklava       0.81      0.87      0.84       250\n",
            "         beef_carpaccio       0.89      0.81      0.85       250\n",
            "           beef_tartare       0.73      0.77      0.75       250\n",
            "             beet_salad       0.66      0.68      0.67       250\n",
            "               beignets       0.84      0.89      0.86       250\n",
            "               bibimbap       0.87      0.90      0.89       250\n",
            "          bread_pudding       0.64      0.54      0.59       250\n",
            "      breakfast_burrito       0.68      0.64      0.66       250\n",
            "             bruschetta       0.67      0.60      0.63       250\n",
            "           caesar_salad       0.85      0.83      0.84       250\n",
            "                cannoli       0.85      0.85      0.85       250\n",
            "          caprese_salad       0.68      0.81      0.74       250\n",
            "            carrot_cake       0.86      0.73      0.79       250\n",
            "                ceviche       0.64      0.57      0.60       250\n",
            "           cheese_plate       0.78      0.82      0.80       250\n",
            "             cheesecake       0.72      0.61      0.66       250\n",
            "          chicken_curry       0.71      0.66      0.68       250\n",
            "     chicken_quesadilla       0.79      0.76      0.78       250\n",
            "          chicken_wings       0.82      0.84      0.83       250\n",
            "         chocolate_cake       0.76      0.67      0.71       250\n",
            "       chocolate_mousse       0.53      0.64      0.58       250\n",
            "                churros       0.88      0.88      0.88       250\n",
            "           clam_chowder       0.86      0.87      0.86       250\n",
            "          club_sandwich       0.84      0.83      0.84       250\n",
            "             crab_cakes       0.69      0.63      0.66       250\n",
            "           creme_brulee       0.88      0.89      0.88       250\n",
            "          croque_madame       0.90      0.83      0.86       250\n",
            "              cup_cakes       0.83      0.88      0.85       250\n",
            "           deviled_eggs       0.83      0.90      0.87       250\n",
            "                 donuts       0.79      0.79      0.79       250\n",
            "              dumplings       0.87      0.88      0.88       250\n",
            "                edamame       0.98      0.98      0.98       250\n",
            "          eggs_benedict       0.88      0.87      0.87       250\n",
            "              escargots       0.74      0.90      0.81       250\n",
            "                falafel       0.72      0.70      0.71       250\n",
            "           filet_mignon       0.53      0.64      0.58       250\n",
            "         fish_and_chips       0.83      0.84      0.83       250\n",
            "              foie_gras       0.59      0.58      0.59       250\n",
            "           french_fries       0.84      0.92      0.88       250\n",
            "      french_onion_soup       0.75      0.84      0.79       250\n",
            "           french_toast       0.62      0.75      0.68       250\n",
            "         fried_calamari       0.83      0.72      0.77       250\n",
            "             fried_rice       0.84      0.81      0.82       250\n",
            "          frozen_yogurt       0.84      0.90      0.87       250\n",
            "           garlic_bread       0.81      0.71      0.75       250\n",
            "                gnocchi       0.66      0.68      0.67       250\n",
            "            greek_salad       0.75      0.82      0.78       250\n",
            "grilled_cheese_sandwich       0.66      0.70      0.68       250\n",
            "         grilled_salmon       0.66      0.68      0.67       250\n",
            "              guacamole       0.85      0.88      0.86       250\n",
            "                  gyoza       0.80      0.84      0.82       250\n",
            "              hamburger       0.76      0.75      0.76       250\n",
            "      hot_and_sour_soup       0.85      0.93      0.89       250\n",
            "                hot_dog       0.76      0.86      0.81       250\n",
            "       huevos_rancheros       0.62      0.61      0.62       250\n",
            "                 hummus       0.75      0.70      0.72       250\n",
            "              ice_cream       0.71      0.73      0.72       250\n",
            "                lasagna       0.75      0.56      0.65       250\n",
            "         lobster_bisque       0.82      0.88      0.85       250\n",
            "  lobster_roll_sandwich       0.87      0.86      0.86       250\n",
            "    macaroni_and_cheese       0.82      0.76      0.79       250\n",
            "               macarons       0.93      0.95      0.94       250\n",
            "              miso_soup       0.89      0.90      0.90       250\n",
            "                mussels       0.83      0.90      0.87       250\n",
            "                 nachos       0.76      0.72      0.74       250\n",
            "               omelette       0.62      0.69      0.65       250\n",
            "            onion_rings       0.84      0.90      0.87       250\n",
            "                oysters       0.97      0.90      0.94       250\n",
            "               pad_thai       0.79      0.93      0.86       250\n",
            "                 paella       0.73      0.82      0.77       250\n",
            "               pancakes       0.81      0.81      0.81       250\n",
            "            panna_cotta       0.69      0.70      0.70       250\n",
            "            peking_duck       0.82      0.78      0.80       250\n",
            "                    pho       0.88      0.90      0.89       250\n",
            "                  pizza       0.82      0.89      0.85       250\n",
            "              pork_chop       0.56      0.37      0.45       250\n",
            "                poutine       0.83      0.86      0.85       250\n",
            "              prime_rib       0.79      0.77      0.78       250\n",
            "   pulled_pork_sandwich       0.75      0.78      0.77       250\n",
            "                  ramen       0.78      0.78      0.78       250\n",
            "                ravioli       0.63      0.46      0.53       250\n",
            "        red_velvet_cake       0.92      0.86      0.89       250\n",
            "                risotto       0.73      0.62      0.67       250\n",
            "                 samosa       0.88      0.80      0.84       250\n",
            "                sashimi       0.90      0.89      0.89       250\n",
            "               scallops       0.64      0.61      0.63       250\n",
            "          seaweed_salad       0.85      0.92      0.88       250\n",
            "       shrimp_and_grits       0.68      0.72      0.70       250\n",
            "    spaghetti_bolognese       0.84      0.91      0.87       250\n",
            "    spaghetti_carbonara       0.89      0.87      0.88       250\n",
            "           spring_rolls       0.83      0.85      0.84       250\n",
            "                  steak       0.45      0.45      0.45       250\n",
            "   strawberry_shortcake       0.80      0.77      0.78       250\n",
            "                  sushi       0.83      0.80      0.82       250\n",
            "                  tacos       0.62      0.70      0.66       250\n",
            "               takoyaki       0.82      0.90      0.85       250\n",
            "               tiramisu       0.70      0.72      0.71       250\n",
            "           tuna_tartare       0.68      0.60      0.64       250\n",
            "                waffles       0.82      0.88      0.85       250\n",
            "\n",
            "               accuracy                           0.77     25250\n",
            "              macro avg       0.77      0.77      0.77     25250\n",
            "           weighted avg       0.77      0.77      0.77     25250\n",
            "\n",
            "\n",
            "Top 5 Most Accurate Classes:\n",
            "edamame                  : 98.00%\n",
            "macarons                 : 95.20%\n",
            "hot_and_sour_soup        : 93.20%\n",
            "pad_thai                 : 92.80%\n",
            "french_fries             : 92.40%\n",
            "\n",
            " Bottom 5 Least Accurate Classes:\n",
            "bread_pudding            : 54.00%\n",
            "ravioli                  : 46.40%\n",
            "steak                    : 44.80%\n",
            "apple_pie                : 42.80%\n",
            "pork_chop                : 36.80%\n"
          ]
        }
      ],
      "source": [
        "evaluate_model(resnet_finetune, test_loader, label_encoder, device)\n",
        "evaluate_top_bottom_classes(resnet_finetune, test_loader, label_encoder, device)\n"
      ]
    },
    {
      "cell_type": "code",
      "execution_count": null,
      "id": "c16e04fb-a72a-4f58-874e-7b2e5c962dbb",
      "metadata": {
        "id": "c16e04fb-a72a-4f58-874e-7b2e5c962dbb"
      },
      "outputs": [],
      "source": []
    },
    {
      "cell_type": "code",
      "execution_count": null,
      "id": "9b9bf593-a412-4224-b44e-51971cea0c1d",
      "metadata": {
        "id": "9b9bf593-a412-4224-b44e-51971cea0c1d"
      },
      "outputs": [],
      "source": []
    },
    {
      "cell_type": "code",
      "execution_count": null,
      "id": "94b608f9-b0ab-4134-aec8-ac41f35b5f45",
      "metadata": {
        "id": "94b608f9-b0ab-4134-aec8-ac41f35b5f45"
      },
      "outputs": [],
      "source": []
    },
    {
      "cell_type": "code",
      "execution_count": null,
      "id": "5fbde5be-fcb2-4d40-b59c-db27717faabf",
      "metadata": {
        "id": "5fbde5be-fcb2-4d40-b59c-db27717faabf"
      },
      "outputs": [],
      "source": []
    },
    {
      "cell_type": "code",
      "execution_count": null,
      "id": "2ddf6d79-c335-483d-abdf-3b3a93db71d0",
      "metadata": {
        "id": "2ddf6d79-c335-483d-abdf-3b3a93db71d0"
      },
      "outputs": [],
      "source": []
    },
    {
      "cell_type": "code",
      "execution_count": null,
      "id": "62cdb625-b7ea-4e33-a8cd-0eff80e251eb",
      "metadata": {
        "id": "62cdb625-b7ea-4e33-a8cd-0eff80e251eb"
      },
      "outputs": [],
      "source": []
    },
    {
      "cell_type": "code",
      "execution_count": null,
      "id": "4b99c994-2e44-4fc0-b529-fd3cdc4b751e",
      "metadata": {
        "id": "4b99c994-2e44-4fc0-b529-fd3cdc4b751e"
      },
      "outputs": [],
      "source": []
    },
    {
      "cell_type": "code",
      "execution_count": null,
      "id": "e1eb441b-33cd-4fbb-ab1d-723d8b185835",
      "metadata": {
        "id": "e1eb441b-33cd-4fbb-ab1d-723d8b185835"
      },
      "outputs": [],
      "source": []
    },
    {
      "cell_type": "code",
      "execution_count": null,
      "id": "710d0786-a4ca-4447-b56b-2db33abdd33f",
      "metadata": {
        "id": "710d0786-a4ca-4447-b56b-2db33abdd33f"
      },
      "outputs": [],
      "source": []
    },
    {
      "cell_type": "code",
      "execution_count": null,
      "id": "753a2215-f091-48b9-825b-e1310348a8d7",
      "metadata": {
        "id": "753a2215-f091-48b9-825b-e1310348a8d7"
      },
      "outputs": [],
      "source": []
    },
    {
      "cell_type": "code",
      "execution_count": null,
      "id": "dbb0376b-296d-45a0-ba0f-6e807ae0fab8",
      "metadata": {
        "id": "dbb0376b-296d-45a0-ba0f-6e807ae0fab8"
      },
      "outputs": [],
      "source": []
    },
    {
      "cell_type": "code",
      "execution_count": null,
      "id": "c19b6315-2e61-49b5-b8d1-acbcfbed139a",
      "metadata": {
        "id": "c19b6315-2e61-49b5-b8d1-acbcfbed139a"
      },
      "outputs": [],
      "source": []
    },
    {
      "cell_type": "code",
      "execution_count": null,
      "id": "7be077bd-98d0-4a82-b8de-e7d0e7afeac3",
      "metadata": {
        "id": "7be077bd-98d0-4a82-b8de-e7d0e7afeac3"
      },
      "outputs": [],
      "source": []
    },
    {
      "cell_type": "code",
      "execution_count": null,
      "id": "06e65654-7b3d-4977-bce4-1374d227664d",
      "metadata": {
        "id": "06e65654-7b3d-4977-bce4-1374d227664d"
      },
      "outputs": [],
      "source": []
    },
    {
      "cell_type": "code",
      "execution_count": null,
      "id": "952f12f4-8348-41c4-b0ef-ccc3642403e6",
      "metadata": {
        "id": "952f12f4-8348-41c4-b0ef-ccc3642403e6"
      },
      "outputs": [],
      "source": []
    },
    {
      "cell_type": "code",
      "execution_count": null,
      "id": "68870955-1843-4a8b-9a0f-51d2db0c8f2d",
      "metadata": {
        "id": "68870955-1843-4a8b-9a0f-51d2db0c8f2d"
      },
      "outputs": [],
      "source": []
    },
    {
      "cell_type": "code",
      "execution_count": null,
      "id": "60f12b96-7dfc-4734-9fde-4542ce33ae8d",
      "metadata": {
        "id": "60f12b96-7dfc-4734-9fde-4542ce33ae8d"
      },
      "outputs": [],
      "source": []
    },
    {
      "cell_type": "code",
      "execution_count": null,
      "id": "786a1c59-387b-42fa-ad90-64b02696ba1a",
      "metadata": {
        "id": "786a1c59-387b-42fa-ad90-64b02696ba1a"
      },
      "outputs": [],
      "source": []
    },
    {
      "cell_type": "code",
      "execution_count": null,
      "id": "fc154f57-18ed-4a47-babb-55fb101f486e",
      "metadata": {
        "id": "fc154f57-18ed-4a47-babb-55fb101f486e"
      },
      "outputs": [],
      "source": []
    },
    {
      "cell_type": "code",
      "execution_count": null,
      "id": "6b0a2a92-4251-4822-85cc-ed7e4987fc53",
      "metadata": {
        "id": "6b0a2a92-4251-4822-85cc-ed7e4987fc53"
      },
      "outputs": [],
      "source": []
    },
    {
      "cell_type": "code",
      "execution_count": null,
      "id": "2145dccc-1d5e-456e-88f2-55fc01e61ba4",
      "metadata": {
        "id": "2145dccc-1d5e-456e-88f2-55fc01e61ba4"
      },
      "outputs": [],
      "source": []
    },
    {
      "cell_type": "code",
      "execution_count": null,
      "id": "5489981e-b5c9-46ce-8953-a48f315a83a7",
      "metadata": {
        "id": "5489981e-b5c9-46ce-8953-a48f315a83a7"
      },
      "outputs": [],
      "source": []
    },
    {
      "cell_type": "code",
      "execution_count": null,
      "id": "5083030d-ae13-4ec3-923b-bdb7bad1ed3b",
      "metadata": {
        "id": "5083030d-ae13-4ec3-923b-bdb7bad1ed3b"
      },
      "outputs": [],
      "source": []
    },
    {
      "cell_type": "code",
      "execution_count": null,
      "id": "c4534726-a392-44a9-bb62-0cb42ba3d441",
      "metadata": {
        "id": "c4534726-a392-44a9-bb62-0cb42ba3d441"
      },
      "outputs": [],
      "source": []
    },
    {
      "cell_type": "code",
      "execution_count": null,
      "id": "72643870-1874-4e4f-806f-1bb783a2fe03",
      "metadata": {
        "id": "72643870-1874-4e4f-806f-1bb783a2fe03"
      },
      "outputs": [],
      "source": []
    },
    {
      "cell_type": "code",
      "execution_count": null,
      "id": "a14bfe65-5f86-43b1-8a6b-644855e697b9",
      "metadata": {
        "id": "a14bfe65-5f86-43b1-8a6b-644855e697b9"
      },
      "outputs": [],
      "source": []
    },
    {
      "cell_type": "code",
      "execution_count": null,
      "id": "0e54a19e-60bf-4c11-9446-df8c277c951e",
      "metadata": {
        "id": "0e54a19e-60bf-4c11-9446-df8c277c951e"
      },
      "outputs": [],
      "source": []
    },
    {
      "cell_type": "code",
      "execution_count": null,
      "id": "9a92984c-9b3e-4708-bd5f-9fa3c8c3705b",
      "metadata": {
        "id": "9a92984c-9b3e-4708-bd5f-9fa3c8c3705b"
      },
      "outputs": [],
      "source": []
    },
    {
      "cell_type": "code",
      "execution_count": null,
      "id": "18f6e31c-bada-431e-81b4-6f7270b4a567",
      "metadata": {
        "id": "18f6e31c-bada-431e-81b4-6f7270b4a567"
      },
      "outputs": [],
      "source": []
    },
    {
      "cell_type": "code",
      "execution_count": null,
      "id": "ef760faa-140f-4b9a-88c8-ffbfeb044f6c",
      "metadata": {
        "id": "ef760faa-140f-4b9a-88c8-ffbfeb044f6c"
      },
      "outputs": [],
      "source": []
    },
    {
      "cell_type": "code",
      "execution_count": null,
      "id": "df5cf644-0d21-4fbb-8866-31ec80c62970",
      "metadata": {
        "id": "df5cf644-0d21-4fbb-8866-31ec80c62970"
      },
      "outputs": [],
      "source": []
    },
    {
      "cell_type": "code",
      "execution_count": null,
      "id": "354be292-8121-4693-b4aa-455407a0ea42",
      "metadata": {
        "id": "354be292-8121-4693-b4aa-455407a0ea42"
      },
      "outputs": [],
      "source": []
    },
    {
      "cell_type": "code",
      "execution_count": null,
      "id": "f7fdfdc3-2bdb-4a24-bd3f-783132117da0",
      "metadata": {
        "id": "f7fdfdc3-2bdb-4a24-bd3f-783132117da0"
      },
      "outputs": [],
      "source": []
    },
    {
      "cell_type": "code",
      "execution_count": null,
      "id": "75b9f2bd-66fa-48cf-b986-8b23814ba779",
      "metadata": {
        "id": "75b9f2bd-66fa-48cf-b986-8b23814ba779"
      },
      "outputs": [],
      "source": []
    },
    {
      "cell_type": "code",
      "execution_count": null,
      "id": "6e67ea6d-baa5-428a-b1a0-99c6bbcab6a4",
      "metadata": {
        "id": "6e67ea6d-baa5-428a-b1a0-99c6bbcab6a4"
      },
      "outputs": [],
      "source": []
    },
    {
      "cell_type": "code",
      "execution_count": null,
      "id": "5cc1a9d4-b703-441d-8a33-bfb78e815e12",
      "metadata": {
        "id": "5cc1a9d4-b703-441d-8a33-bfb78e815e12"
      },
      "outputs": [],
      "source": []
    },
    {
      "cell_type": "code",
      "execution_count": null,
      "id": "78688366-cf2c-47a2-bdda-a53a05efb850",
      "metadata": {
        "id": "78688366-cf2c-47a2-bdda-a53a05efb850"
      },
      "outputs": [],
      "source": []
    },
    {
      "cell_type": "code",
      "execution_count": null,
      "id": "75b41509-da8c-4712-8f35-d7b276abbadc",
      "metadata": {
        "id": "75b41509-da8c-4712-8f35-d7b276abbadc"
      },
      "outputs": [],
      "source": []
    },
    {
      "cell_type": "code",
      "execution_count": null,
      "id": "d2157ee2-0f5b-4c68-85ee-9686d9f4abb2",
      "metadata": {
        "id": "d2157ee2-0f5b-4c68-85ee-9686d9f4abb2"
      },
      "outputs": [],
      "source": []
    },
    {
      "cell_type": "code",
      "execution_count": null,
      "id": "fa5e8aeb-b73e-45a9-9c0e-ab3725a79279",
      "metadata": {
        "id": "fa5e8aeb-b73e-45a9-9c0e-ab3725a79279"
      },
      "outputs": [],
      "source": []
    },
    {
      "cell_type": "code",
      "execution_count": null,
      "id": "c79efe33-3322-4f4e-8204-17ac8c08815c",
      "metadata": {
        "id": "c79efe33-3322-4f4e-8204-17ac8c08815c"
      },
      "outputs": [],
      "source": []
    },
    {
      "cell_type": "code",
      "execution_count": null,
      "id": "741444f9-e384-4f8a-a70c-9cf7be150aa6",
      "metadata": {
        "id": "741444f9-e384-4f8a-a70c-9cf7be150aa6"
      },
      "outputs": [],
      "source": []
    },
    {
      "cell_type": "code",
      "execution_count": null,
      "id": "e9d51301-6b14-44d1-b6b5-bc99d493ca13",
      "metadata": {
        "id": "e9d51301-6b14-44d1-b6b5-bc99d493ca13"
      },
      "outputs": [],
      "source": []
    },
    {
      "cell_type": "code",
      "execution_count": null,
      "id": "9a9e652b-b63f-4bfd-88ef-5e8951ca026a",
      "metadata": {
        "id": "9a9e652b-b63f-4bfd-88ef-5e8951ca026a"
      },
      "outputs": [],
      "source": []
    },
    {
      "cell_type": "code",
      "execution_count": null,
      "id": "baa09875-1a40-4661-8a82-a5684a4af747",
      "metadata": {
        "id": "baa09875-1a40-4661-8a82-a5684a4af747"
      },
      "outputs": [],
      "source": []
    },
    {
      "cell_type": "code",
      "execution_count": null,
      "id": "877eda2d-c2d5-4c7c-ab96-216bc9744fad",
      "metadata": {
        "id": "877eda2d-c2d5-4c7c-ab96-216bc9744fad"
      },
      "outputs": [],
      "source": []
    },
    {
      "cell_type": "code",
      "execution_count": null,
      "id": "0517c36d-d982-4e04-b131-8c1e3bfcfecc",
      "metadata": {
        "id": "0517c36d-d982-4e04-b131-8c1e3bfcfecc"
      },
      "outputs": [],
      "source": []
    },
    {
      "cell_type": "code",
      "execution_count": null,
      "id": "91df676e-2a97-4579-9ba8-702a6f4f6650",
      "metadata": {
        "id": "91df676e-2a97-4579-9ba8-702a6f4f6650"
      },
      "outputs": [],
      "source": []
    },
    {
      "cell_type": "code",
      "execution_count": null,
      "id": "7fa4511a-5f45-40eb-89fd-7ae7f50ebe34",
      "metadata": {
        "id": "7fa4511a-5f45-40eb-89fd-7ae7f50ebe34"
      },
      "outputs": [],
      "source": []
    },
    {
      "cell_type": "code",
      "execution_count": null,
      "id": "7a7a0683-2173-4fb5-9a05-ef8aa693b96f",
      "metadata": {
        "id": "7a7a0683-2173-4fb5-9a05-ef8aa693b96f"
      },
      "outputs": [],
      "source": []
    },
    {
      "cell_type": "code",
      "execution_count": null,
      "id": "8ea486d3-6e8d-4aab-a25b-bd4c9d74a09b",
      "metadata": {
        "id": "8ea486d3-6e8d-4aab-a25b-bd4c9d74a09b"
      },
      "outputs": [],
      "source": []
    },
    {
      "cell_type": "code",
      "execution_count": null,
      "id": "7b24f2de-2103-4680-97c2-9dd09b80169a",
      "metadata": {
        "id": "7b24f2de-2103-4680-97c2-9dd09b80169a"
      },
      "outputs": [],
      "source": []
    },
    {
      "cell_type": "code",
      "execution_count": null,
      "id": "9ae9cafa-334c-4bec-8833-9bb035c216cd",
      "metadata": {
        "id": "9ae9cafa-334c-4bec-8833-9bb035c216cd"
      },
      "outputs": [],
      "source": []
    },
    {
      "cell_type": "code",
      "execution_count": null,
      "id": "bb3b3f9c-6741-4164-82a5-9d19080fefe0",
      "metadata": {
        "id": "bb3b3f9c-6741-4164-82a5-9d19080fefe0"
      },
      "outputs": [],
      "source": []
    },
    {
      "cell_type": "code",
      "execution_count": null,
      "id": "d648f03d-8a73-4ab4-b002-4fab21fa8ac5",
      "metadata": {
        "id": "d648f03d-8a73-4ab4-b002-4fab21fa8ac5"
      },
      "outputs": [],
      "source": []
    },
    {
      "cell_type": "code",
      "execution_count": null,
      "id": "7487daba-2f97-4c57-9c00-49e2186d5ebd",
      "metadata": {
        "id": "7487daba-2f97-4c57-9c00-49e2186d5ebd"
      },
      "outputs": [],
      "source": []
    },
    {
      "cell_type": "code",
      "execution_count": null,
      "id": "19ad40f4-9338-4c99-89bb-1275e48f30b1",
      "metadata": {
        "id": "19ad40f4-9338-4c99-89bb-1275e48f30b1"
      },
      "outputs": [],
      "source": []
    },
    {
      "cell_type": "code",
      "execution_count": null,
      "id": "b0d9e5fb-0dd8-4a65-a735-46805fd00d43",
      "metadata": {
        "id": "b0d9e5fb-0dd8-4a65-a735-46805fd00d43"
      },
      "outputs": [],
      "source": []
    }
  ],
  "metadata": {
    "kernelspec": {
      "display_name": "Python (RunPod Env)",
      "language": "python",
      "name": "runpod-env"
    },
    "language_info": {
      "codemirror_mode": {
        "name": "ipython",
        "version": 3
      },
      "file_extension": ".py",
      "mimetype": "text/x-python",
      "name": "python",
      "nbconvert_exporter": "python",
      "pygments_lexer": "ipython3",
      "version": "3.10.12"
    },
    "colab": {
      "provenance": []
    }
  },
  "nbformat": 4,
  "nbformat_minor": 5
}